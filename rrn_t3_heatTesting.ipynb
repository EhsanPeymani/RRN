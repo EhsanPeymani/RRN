{
 "metadata": {
  "language_info": {
   "codemirror_mode": {
    "name": "ipython",
    "version": 3
   },
   "file_extension": ".py",
   "mimetype": "text/x-python",
   "name": "python",
   "nbconvert_exporter": "python",
   "pygments_lexer": "ipython3",
   "version": "3.8.3-final"
  },
  "orig_nbformat": 2,
  "kernelspec": {
   "name": "python_defaultSpec_1600421147425",
   "display_name": "Python 3.8.3 64-bit ('base': conda)"
  }
 },
 "nbformat": 4,
 "nbformat_minor": 2,
 "cells": [
  {
   "cell_type": "markdown",
   "metadata": {},
   "source": [
    "## RRN Heat Testing\n",
    "\n",
    "Move A3 up and down 20 times using accelerations {0.2, 0.4, 0.6, 0.8, 1.0} $m/s^2$"
   ]
  },
  {
   "cell_type": "code",
   "execution_count": null,
   "metadata": {},
   "outputs": [],
   "source": [
    "import sys\n",
    "import os\n",
    "import numpy as np\n",
    "import pandas as pd\n",
    "import plotly.express as px\n",
    "import plotly.graph_objects as go\n",
    "from plotly.subplots import make_subplots\n",
    "\n",
    "def fetchData(source):    \n",
    "    #print(\"fetching data from path = \", source)\n",
    "    data = pd.read_csv(source)\n",
    "    return data\n",
    "\n",
    "def appendTime(data):\n",
    "    data['time'] = data['Loop time']/1000000;\n",
    "\n",
    "    for i in range(1, data.shape[0], 1):\n",
    "        data['time'][i] = data['time'][i] + data['time'][i-1] \n",
    "\n",
    "    return data\n",
    "\n",
    "def addAccelerationForA3(data):\n",
    "    data['A3_1 ACCSP'] = (data['A3_1 VELSP'] - data['A3_1 VELSP'].shift(1, fill_value=0))/(0.008)\n",
    "    data['A3_1 ACCSP'] = data['A3_1 ACCSP'] + data['A3_1 ACCSP'].shift(1, fill_value=0)\n",
    "    return data\n",
    "\n",
    "\n",
    "def fetchA3Data(path, source, labels):\n",
    "    data = fetchData(path + source)\n",
    "    data = appendTime(data)\n",
    "    data = addAccelerationForA3(data)\n",
    "    labels.extend(['time', 'A3_1 ACCSP'])\n",
    "    data = data[labels]\n",
    "    return data \n",
    "\n",
    "def getDataForShadowing(dataArray, labels):\n",
    "    tests = ['Acc_02', 'Acc_04', 'Acc_06', 'Acc_08', 'Acc_10']\n",
    "    columnNames = [test+'_'+label for label inlabels for test in tests]\n",
    "\n",
    "    dataFrame = pd.DataFrame(columns=columnNames)\n",
    "    \n",
    "    dataFrame['time'] = data['time']\n",
    "\n",
    "    c = 0\n",
    "    for index, data in enumerate(dataArray): #index is tests\n",
    "        for label in labels:\n",
    "            dataFrame[columnNames[c]] = data[label]\n",
    "            c = c+1\n",
    "    return 1\n",
    "\n",
    "def printLabels(data):\n",
    "    labels = data.columns.values\n",
    "    print(labels)\n",
    "\n",
    "\n",
    "def plot(data, labels, labelsOnSecondry, title, yLabel, secondYLabel):\n",
    "    fig = make_subplots(rows=1, cols=1)\n",
    "    fig = make_subplots(specs=[[{\"secondary_y\": True}]])\n",
    "\n",
    "    for label in labels:\n",
    "        jointData = data[label]\n",
    "     \n",
    "        fig.add_trace(go.Scatter(x=data['time'], y=jointData, mode='lines', name=label), row=1, col=1, secondary_y=False)\n",
    "\n",
    "    for label in labelsOnSecondry:\n",
    "        jointData = data[label]\n",
    "      \n",
    "        fig.add_trace(go.Scatter(x=data['time'], y=jointData, mode='lines', name=label), row=1, col=1, secondary_y=True)\n",
    "\n",
    "    # Update yaxis properties\n",
    "    fig.update_yaxes(title_text=yLabel, row=1, col=1, secondary_y=False)\n",
    "    fig.update_yaxes(title_text=secondYLabel, row=1, col=1, secondary_y=True)\n",
    "    # Update xaxis properties\n",
    "    fig.update_xaxes(title_text=\"time [s]\", row=1, col=1)\n",
    "\n",
    "    fig.update_layout(title_text=title, width=1550, height=1000)       \n",
    "    fig.show()\n",
    "\n",
    "def plotTorqueTurn(data, title):\n",
    "    fig = make_subplots(rows=1, cols=1)\n",
    "    fig = make_subplots(specs=[[{\"secondary_y\": True}]])\n",
    "    \n",
    "    fig.add_trace(go.Scatter(x=data['turn'], y=data['torqueOnPipe'], mode='lines', name=label), row=1, col=1, secondary_y=False)\n",
    "\n",
    "    # Update yaxis properties\n",
    "    fig.update_yaxes(title_text='Torque', row=1, col=1)\n",
    "    # Update xaxis properties\n",
    "    fig.update_xaxes(title_text=\"Turn\", row=1, col=1)\n",
    "\n",
    "    fig.update_layout(title_text=title, width=1550, height=1000)       \n",
    "    fig.show()"
   ]
  },
  {
   "cell_type": "code",
   "execution_count": null,
   "metadata": {
    "tags": []
   },
   "outputs": [],
   "source": [
    "path   = '/home/ep/dev/software/data-recorder-visualizator/'\n",
    "source = [\n",
    "    \"RRN_T3/HeatTesting/GwLogData-18523-36074069_Acc02.csv\",\n",
    "    \"RRN_T3/HeatTesting/GwLogData-18523-36825882_Acc04.csv\",\n",
    "    \"RRN_T3/HeatTesting/GwLogData-18523-37521028_Acc06.csv\",\n",
    "    \"RRN_T3/HeatTesting/GwLogData-18523-38080123_Acc08.csv\",\n",
    "    \"RRN_T3/HeatTesting/GwLogData-18523-38800150_Acc10.csv\"\n",
    "]\n",
    "\n",
    "sourceWarmup = ['RRN_T3/HeatTesting/GwLogData-18523-35374295_Warmup.csv']\n",
    "\n",
    "#print(path + sourceWarmup[0])"
   ]
  },
  {
   "cell_type": "markdown",
   "metadata": {},
   "source": [
    "### Plotting warm up data"
   ]
  },
  {
   "cell_type": "code",
   "execution_count": null,
   "metadata": {
    "tags": []
   },
   "outputs": [],
   "source": [
    "labels = ['A3_1 POSFB', 'A3_2 POSFB',\n",
    "    'A3_1 VELFB', 'A3_2 VELFB',\n",
    "    'A3_1 POSSP', 'A3_2 POSSP',\n",
    "    'A3_1 VELSP', 'A3_2 VELSP',\n",
    "    'A3_1 TORQUE', 'A3_2 TORQUE']\n",
    "warmupData = fetchA3Data(path, sourceWarmup[0], labels)\n",
    "#printLabels(warmupData)\n",
    "\n",
    "LabelsLeft  = ['A3_1 TORQUE', 'A3_2 TORQUE']\n",
    "LabelsRight = ['A3_1 VELFB', 'A3_2 VELFB', 'A3_1 VELSP', 'A3_2 VELSP','A3_1 ACCSP']\n",
    "plot(warmupData, LabelsLeft, LabelsRight, \"Warmup, speed factor = 50%, acceleration factor = 20%\", \"Torque [Nm]\", \"Velocity [m/s]\")\n"
   ]
  },
  {
   "cell_type": "markdown",
   "metadata": {},
   "source": [
    "### Getting data for the main test"
   ]
  },
  {
   "cell_type": "code",
   "execution_count": null,
   "metadata": {
    "tags": []
   },
   "outputs": [],
   "source": [
    "testData = []\n",
    "for i, s in enumerate(source):\n",
    "    labels = ['A3_1 POSFB', 'A3_2 POSFB',\n",
    "                'A3_1 VELFB', 'A3_2 VELFB',\n",
    "                'A3_1 POSSP', 'A3_2 POSSP',\n",
    "                'A3_1 VELSP', 'A3_2 VELSP',\n",
    "                'A3_1 TORQUE', 'A3_2 TORQUE']\n",
    "    testData.append(fetchA3Data(path, s, labels))\n",
    "    # print(i, \", \", s)"
   ]
  },
  {
   "cell_type": "markdown",
   "metadata": {},
   "source": [
    "### Plotting test result for Acc = 0.2 $m/s^2$"
   ]
  },
  {
   "cell_type": "code",
   "execution_count": null,
   "metadata": {},
   "outputs": [],
   "source": [
    "timeLimit = 40;\n",
    "data = testData[0]\n",
    "LabelsLeft  = ['A3_1 TORQUE', 'A3_2 TORQUE']\n",
    "LabelsRight = ['A3_1 VELFB', 'A3_2 VELFB', 'A3_1 VELSP', 'A3_2 VELSP','A3_1 ACCSP']\n",
    "plot(data[data['time'] < timeLimit], LabelsLeft, LabelsRight, \"$Acc = 0.2 m/s^2$\", \"Torque [Nm]\", \"Velocity [m/s]\")\n",
    "del data"
   ]
  },
  {
   "cell_type": "markdown",
   "metadata": {},
   "source": [
    "### Plotting test result for Acc = 0.4 $m/s^2$"
   ]
  },
  {
   "cell_type": "code",
   "execution_count": null,
   "metadata": {},
   "outputs": [],
   "source": [
    "timeLimit = 40;\n",
    "data = testData[1]\n",
    "LabelsLeft  = ['A3_1 TORQUE', 'A3_2 TORQUE']\n",
    "LabelsRight = ['A3_1 VELFB', 'A3_2 VELFB', 'A3_1 VELSP', 'A3_2 VELSP','A3_1 ACCSP']\n",
    "plot(data[data['time'] < timeLimit], LabelsLeft, LabelsRight, \"$Acc = 0.4 m/s^2$\", \"Torque [Nm]\", \"Velocity [m/s]\")\n",
    "del data"
   ]
  },
  {
   "cell_type": "markdown",
   "metadata": {},
   "source": [
    "### Plotting test result for Acc = 0.6 $m/s^2$"
   ]
  },
  {
   "cell_type": "code",
   "execution_count": null,
   "metadata": {},
   "outputs": [],
   "source": [
    "timeLimit = 40;\n",
    "data = testData[2]\n",
    "LabelsLeft  = ['A3_1 TORQUE', 'A3_2 TORQUE']\n",
    "LabelsRight = ['A3_1 VELFB', 'A3_2 VELFB', 'A3_1 VELSP', 'A3_2 VELSP','A3_1 ACCSP']\n",
    "plot(data[data['time'] < timeLimit], LabelsLeft, LabelsRight, \"$Acc = 0.6 m/s^2$\", \"Torque [Nm]\", \"Velocity [m/s], Acceleartion[m/s2]\")\n",
    "#del data"
   ]
  },
  {
   "cell_type": "code",
   "execution_count": null,
   "metadata": {},
   "outputs": [],
   "source": [
    "### Plotting test result for Acc = 0.8 $m/s^2$"
   ]
  },
  {
   "cell_type": "code",
   "execution_count": null,
   "metadata": {},
   "outputs": [],
   "source": [
    "timeLimit = 40;\n",
    "data = testData[3]\n",
    "LabelsLeft  = ['A3_1 TORQUE', 'A3_2 TORQUE']\n",
    "LabelsRight = ['A3_1 VELFB', 'A3_2 VELFB', 'A3_1 VELSP', 'A3_2 VELSP','A3_1 ACCSP']\n",
    "plot(data[data['time'] < timeLimit], LabelsLeft, LabelsRight, \"$Acc = 0.8 m/s^2$\", \"Torque [Nm]\", \"Velocity [m/s]\")\n",
    "del data"
   ]
  },
  {
   "cell_type": "markdown",
   "metadata": {},
   "source": [
    "### Plotting test result for Acc = 1.0 $m/s^2$"
   ]
  },
  {
   "cell_type": "code",
   "execution_count": null,
   "metadata": {},
   "outputs": [],
   "source": [
    "timeLimit = 40;\n",
    "data = testData[4]\n",
    "LabelsLeft  = ['A3_1 TORQUE', 'A3_2 TORQUE']\n",
    "LabelsRight = ['A3_1 VELFB', 'A3_2 VELFB', 'A3_1 VELSP', 'A3_2 VELSP','A3_1 ACCSP']\n",
    "plot(data[data['time'] < timeLimit], LabelsLeft, LabelsRight, \"$Acc = 1.0 m/s^2$\", \"Torque [Nm]\", \"Velocity [m/s]\")\n",
    "del data"
   ]
  },
  {
   "cell_type": "markdown",
   "metadata": {},
   "source": [
    "### Preparing for shadowing"
   ]
  },
  {
   "cell_type": "code",
   "execution_count": null,
   "metadata": {
    "tags": []
   },
   "outputs": [],
   "source": [
    "torques = getDataForShadowing(testData, ['A3_1 TORQUE', 'A3_2 TORQUE'])"
   ]
  },
  {
   "cell_type": "code",
   "execution_count": null,
   "metadata": {},
   "outputs": [],
   "source": []
  }
 ]
}